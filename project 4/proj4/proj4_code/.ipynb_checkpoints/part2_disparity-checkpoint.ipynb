{
 "cells": [
  {
   "cell_type": "markdown",
   "metadata": {
    "id": "IsbguCuioQ9a"
   },
   "source": [
    "# Stereo Matching with Pytorch\n",
    "\n",
    "## **Part 2: Learning based stereo matching**\n",
    "    \n",
    "Before we step into training the model, you can use this nodebook to check the implementaion of your MCNET and ExtendNet in `part2a_network.py` and `gen_patch()` in `part2b_patch.py` are correct. You can also use the visualization to get a better sense of what is a positive patch and what is a negative patch."
   ]
  },
  {
   "cell_type": "code",
   "execution_count": 1,
   "metadata": {
    "colab": {
     "base_uri": "https://localhost:8080/"
    },
    "id": "hXj3N8uhtcEZ",
    "nbdime-conflicts": {
     "local_diff": [
      {
       "diff": [
        {
         "key": 0,
         "op": "addrange",
         "valuelist": [
          "9b5234e0-60fe-483d-fae5-1ecc5797d6e8"
         ]
        },
        {
         "key": 0,
         "length": 1,
         "op": "removerange"
        }
       ],
       "key": "outputId",
       "op": "patch"
      }
     ],
     "remote_diff": [
      {
       "key": "outputId",
       "op": "remove"
      }
     ]
    },
    "outputId": "5ae40fd6-379d-4264-c356-ed20f9a85b50"
   },
   "outputs": [
    {
     "data": {
      "text/plain": [
       "<torch._C.Generator at 0x7fbbbc494450>"
      ]
     },
     "execution_count": 1,
     "metadata": {},
     "output_type": "execute_result"
    }
   ],
   "source": [
    "# import torch and set tensor type\n",
    "import torch\n",
    "%matplotlib inline\n",
    "import matplotlib.pyplot as plt\n",
    "\n",
    "use_cuda = True and torch.cuda.is_available()\n",
    "device = torch.device(\"cuda\" if use_cuda else \"cpu\")\n",
    "tensor_type = torch.cuda.FloatTensor if use_cuda else torch.FloatTensor\n",
    "torch.set_default_tensor_type(tensor_type)\n",
    "\n",
    "torch.backends.cudnn.deterministic = True\n",
    "torch.manual_seed(333) # do not change this, this is to ensure your result is reproduciable"
   ]
  },
  {
   "cell_type": "markdown",
   "metadata": {},
   "source": [
    "## Network Architecture"
   ]
  },
  {
   "cell_type": "markdown",
   "metadata": {},
   "source": [
    "Implement **MCNET** network architecture in `part2a_network.py` as described in the paper. We will follow the description of the accurate network for Middlebury dataset, see proj4 pdf for the network diagram. "
   ]
  },
  {
   "cell_type": "code",
   "execution_count": 2,
   "metadata": {},
   "outputs": [],
   "source": [
    "from torch import nn\n",
    "from proj4_code.utils import save_model, load_model\n",
    "from proj4_code.part2a_network import MCNET\n",
    "from proj4_unit_tests.test_part2a_network import test_mcnet\n",
    "from proj4_code.utils import verify"
   ]
  },
  {
   "cell_type": "code",
   "execution_count": 3,
   "metadata": {},
   "outputs": [
    {
     "name": "stdout",
     "output_type": "stream",
     "text": [
      "MCNET(\n",
      "  (conv): Sequential(\n",
      "    (0): Conv2d(1, 112, kernel_size=(3, 3), stride=(1, 1), padding=(1, 1))\n",
      "    (1): ReLU()\n",
      "    (2): Conv2d(112, 112, kernel_size=(3, 3), stride=(1, 1), padding=(1, 1))\n",
      "    (3): ReLU()\n",
      "    (4): Conv2d(112, 112, kernel_size=(3, 3), stride=(1, 1), padding=(1, 1))\n",
      "    (5): ReLU()\n",
      "    (6): Conv2d(112, 112, kernel_size=(3, 3), stride=(1, 1), padding=(1, 1))\n",
      "    (7): ReLU()\n",
      "    (8): Conv2d(112, 112, kernel_size=(3, 3), stride=(1, 1), padding=(1, 1))\n",
      "    (9): ReLU()\n",
      "  )\n",
      "  (classifier): Sequential(\n",
      "    (0): Linear(in_features=27104, out_features=384, bias=True)\n",
      "    (1): ReLU()\n",
      "    (2): Linear(in_features=384, out_features=384, bias=True)\n",
      "    (3): ReLU()\n",
      "    (4): Linear(in_features=384, out_features=1, bias=True)\n",
      "    (5): Sigmoid()\n",
      "  )\n",
      "  (criterion): BCELoss()\n",
      ")\n",
      "Testing for MCNET: \u001b[32m\"Correct\"\u001b[0m\n"
     ]
    }
   ],
   "source": [
    "######################################################################\n",
    "# This block will act as a unit test for your MCNET architecture. There are 2 tests here\n",
    "# 1) test that your network output the correct size\n",
    "# 2) test that you can load up a pre-trained network with the correct architecture. \n",
    "# Make sure you are able to run it without any error. \n",
    "\n",
    "net_tr = MCNET(ws=11,load_path = None,strict=True, use_cuda=use_cuda)\n",
    "print(net_tr)\n",
    "print('Testing for MCNET:', verify(test_mcnet))"
   ]
  },
  {
   "cell_type": "markdown",
   "metadata": {},
   "source": [
    "## Data preparation"
   ]
  },
  {
   "cell_type": "markdown",
   "metadata": {},
   "source": [
    "The data from the middlebury dataset is processed to provide pixel level disparity, and the position (height, width) that the disparity occurs at in the image.\n",
    "\n",
    "However, for the MC-CNN, we need to extract patches around the disparity. This is where the `gen_patch` function comes in.\n",
    "\n",
    "The `gen_patch` function is used to generate patches of a given window size given the corrdinates of the top-left corner of the patch. This will later be used in the training of the MC-CNN, where we'll extract patches on the fly. "
   ]
  },
  {
   "cell_type": "markdown",
   "metadata": {},
   "source": [
    "Implement `gen_patch()` in `part2b_patch.py`"
   ]
  },
  {
   "cell_type": "code",
   "execution_count": 6,
   "metadata": {},
   "outputs": [],
   "source": [
    "from proj4_code.part2b_patch import gen_patch"
   ]
  },
  {
   "cell_type": "code",
   "execution_count": 7,
   "metadata": {},
   "outputs": [
    {
     "name": "stdout",
     "output_type": "stream",
     "text": [
      "hello\n",
      "here\n",
      "tensor([[[147.,  68.,  81.],\n",
      "         [227.,  27., 225.],\n",
      "         [168., 118.,  12.]],\n",
      "\n",
      "        [[223., 234.,  48.],\n",
      "         [173.,  98., 246.],\n",
      "         [229., 144.,  96.]]]) tensor([[[147.,  68.,  81.],\n",
      "         [227.,  27., 225.],\n",
      "         [168., 118.,  12.]],\n",
      "\n",
      "        [[223., 234.,  48.],\n",
      "         [173.,  98., 246.],\n",
      "         [229., 144.,  96.]]])\n",
      "hello\n"
     ]
    },
    {
     "ename": "NameError",
     "evalue": "name 'padded_patch' is not defined",
     "output_type": "error",
     "traceback": [
      "\u001b[0;31m---------------------------------------------------------------------------\u001b[0m",
      "\u001b[0;31mNameError\u001b[0m                                 Traceback (most recent call last)",
      "\u001b[0;32m<ipython-input-7-5b5f62b256cb>\u001b[0m in \u001b[0;36m<module>\u001b[0;34m\u001b[0m\n\u001b[1;32m      4\u001b[0m \u001b[0;32mfrom\u001b[0m \u001b[0mproj4_unit_tests\u001b[0m\u001b[0;34m.\u001b[0m\u001b[0mtest_part2b_patch\u001b[0m \u001b[0;32mimport\u001b[0m \u001b[0mtest_gen_patch\u001b[0m\u001b[0;34m\u001b[0m\u001b[0;34m\u001b[0m\u001b[0m\n\u001b[1;32m      5\u001b[0m \u001b[0;34m\u001b[0m\u001b[0m\n\u001b[0;32m----> 6\u001b[0;31m \u001b[0mprint\u001b[0m\u001b[0;34m(\u001b[0m\u001b[0;34m'Testing for gen_patch:'\u001b[0m\u001b[0;34m,\u001b[0m \u001b[0mverify\u001b[0m\u001b[0;34m(\u001b[0m\u001b[0mtest_gen_patch\u001b[0m\u001b[0;34m)\u001b[0m\u001b[0;34m)\u001b[0m\u001b[0;34m\u001b[0m\u001b[0;34m\u001b[0m\u001b[0m\n\u001b[0m",
      "\u001b[0;32m~/Desktop/proj4/proj4_code/utils.py\u001b[0m in \u001b[0;36mverify\u001b[0;34m(function)\u001b[0m\n\u001b[1;32m    308\u001b[0m     \"\"\"\n\u001b[1;32m    309\u001b[0m     \u001b[0;32mtry\u001b[0m\u001b[0;34m:\u001b[0m\u001b[0;34m\u001b[0m\u001b[0;34m\u001b[0m\u001b[0m\n\u001b[0;32m--> 310\u001b[0;31m         \u001b[0mfunction\u001b[0m\u001b[0;34m(\u001b[0m\u001b[0;34m)\u001b[0m\u001b[0;34m\u001b[0m\u001b[0;34m\u001b[0m\u001b[0m\n\u001b[0m\u001b[1;32m    311\u001b[0m         \u001b[0;32mreturn\u001b[0m \u001b[0;34m'\\x1b[32m\"Correct\"\\x1b[0m'\u001b[0m\u001b[0;34m\u001b[0m\u001b[0;34m\u001b[0m\u001b[0m\n\u001b[1;32m    312\u001b[0m     \u001b[0;32mexcept\u001b[0m \u001b[0;34m(\u001b[0m\u001b[0mAssertionError\u001b[0m\u001b[0;34m,\u001b[0m \u001b[0mRuntimeError\u001b[0m\u001b[0;34m)\u001b[0m \u001b[0;32mas\u001b[0m \u001b[0me\u001b[0m\u001b[0;34m:\u001b[0m\u001b[0;34m\u001b[0m\u001b[0;34m\u001b[0m\u001b[0m\n",
      "\u001b[0;32m~/Desktop/proj4/proj4_unit_tests/test_part2b_patch.py\u001b[0m in \u001b[0;36mtest_gen_patch\u001b[0;34m()\u001b[0m\n\u001b[1;32m     41\u001b[0m \u001b[0;34m\u001b[0m\u001b[0m\n\u001b[1;32m     42\u001b[0m     \u001b[0;31m# test corner case\u001b[0m\u001b[0;34m\u001b[0m\u001b[0;34m\u001b[0m\u001b[0;34m\u001b[0m\u001b[0m\n\u001b[0;32m---> 43\u001b[0;31m     \u001b[0mout\u001b[0m \u001b[0;34m=\u001b[0m \u001b[0mgen_patch\u001b[0m\u001b[0;34m(\u001b[0m\u001b[0mimage\u001b[0m\u001b[0;34m,\u001b[0m \u001b[0mx\u001b[0m\u001b[0;34m=\u001b[0m\u001b[0;36m4\u001b[0m\u001b[0;34m,\u001b[0m \u001b[0my\u001b[0m\u001b[0;34m=\u001b[0m\u001b[0;36m4\u001b[0m\u001b[0;34m,\u001b[0m \u001b[0mws\u001b[0m\u001b[0;34m=\u001b[0m\u001b[0;36m3\u001b[0m\u001b[0;34m)\u001b[0m\u001b[0;34m\u001b[0m\u001b[0;34m\u001b[0m\u001b[0m\n\u001b[0m\u001b[1;32m     44\u001b[0m \u001b[0;34m\u001b[0m\u001b[0m\n\u001b[1;32m     45\u001b[0m     \u001b[0;31m# (2,3,3) patch with top-left corner at (2,2)\u001b[0m\u001b[0;34m\u001b[0m\u001b[0;34m\u001b[0m\u001b[0;34m\u001b[0m\u001b[0m\n",
      "\u001b[0;32m~/Desktop/proj4/proj4_code/part2b_patch.py\u001b[0m in \u001b[0;36mgen_patch\u001b[0;34m(image, x, y, ws)\u001b[0m\n\u001b[1;32m     33\u001b[0m         \u001b[0mpadded\u001b[0m \u001b[0;34m=\u001b[0m \u001b[0mtorch\u001b[0m\u001b[0;34m.\u001b[0m\u001b[0mzeros\u001b[0m\u001b[0;34m(\u001b[0m\u001b[0mimage\u001b[0m\u001b[0;34m.\u001b[0m\u001b[0mshape\u001b[0m\u001b[0;34m[\u001b[0m\u001b[0;36m0\u001b[0m\u001b[0;34m]\u001b[0m\u001b[0;34m,\u001b[0m \u001b[0mws\u001b[0m\u001b[0;34m,\u001b[0m \u001b[0mws\u001b[0m\u001b[0;34m)\u001b[0m\u001b[0;34m\u001b[0m\u001b[0;34m\u001b[0m\u001b[0m\n\u001b[1;32m     34\u001b[0m         \u001b[0mpadded\u001b[0m\u001b[0;34m[\u001b[0m\u001b[0;34m:\u001b[0m\u001b[0;34m,\u001b[0m \u001b[0;34m:\u001b[0m \u001b[0mpatch\u001b[0m\u001b[0;34m.\u001b[0m\u001b[0mshape\u001b[0m\u001b[0;34m[\u001b[0m\u001b[0;36m1\u001b[0m\u001b[0;34m]\u001b[0m\u001b[0;34m,\u001b[0m \u001b[0;34m:\u001b[0m \u001b[0mpatch\u001b[0m\u001b[0;34m.\u001b[0m\u001b[0mshape\u001b[0m\u001b[0;34m[\u001b[0m\u001b[0;36m2\u001b[0m\u001b[0;34m]\u001b[0m\u001b[0;34m]\u001b[0m \u001b[0;34m=\u001b[0m \u001b[0mpatch\u001b[0m\u001b[0;34m\u001b[0m\u001b[0;34m\u001b[0m\u001b[0m\n\u001b[0;32m---> 35\u001b[0;31m         \u001b[0mpatch\u001b[0m \u001b[0;34m=\u001b[0m \u001b[0mpadded\u001b[0m\u001b[0;34m\u001b[0m\u001b[0;34m\u001b[0m\u001b[0m\n\u001b[0m\u001b[1;32m     36\u001b[0m     \u001b[0mpatch\u001b[0m \u001b[0;34m=\u001b[0m \u001b[0mpatch\u001b[0m\u001b[0;34m.\u001b[0m\u001b[0mfloat\u001b[0m\u001b[0;34m(\u001b[0m\u001b[0;34m)\u001b[0m\u001b[0;34m\u001b[0m\u001b[0;34m\u001b[0m\u001b[0m\n\u001b[1;32m     37\u001b[0m     \u001b[0;31m###########################################################################\u001b[0m\u001b[0;34m\u001b[0m\u001b[0;34m\u001b[0m\u001b[0;34m\u001b[0m\u001b[0m\n",
      "\u001b[0;31mNameError\u001b[0m: name 'padded_patch' is not defined"
     ]
    }
   ],
   "source": [
    "######################################################################\n",
    "# This block will act as a unit test for your gen_patch function. \n",
    "from proj4_code.utils import verify\n",
    "from proj4_unit_tests.test_part2b_patch import test_gen_patch\n",
    "\n",
    "print('Testing for gen_patch:', verify(test_gen_patch))"
   ]
  },
  {
   "cell_type": "markdown",
   "metadata": {},
   "source": [
    "You can use the cell below to have a better sense of how a positive and negative patch should look like, and the effect of varying the window size "
   ]
  },
  {
   "cell_type": "code",
   "execution_count": null,
   "metadata": {},
   "outputs": [],
   "source": [
    "from proj4_code.dataset import loadbin, DataLoader\n",
    "import numpy as np\n",
    "import os\n",
    "import random\n",
    "\n",
    "data_dir = '../data/Adirondack'\n",
    "\n",
    "# the img to show\n",
    "ind_img = \"Adirondack\"\n",
    "test_idx = [ind_img]\n",
    "\n",
    "ValData = DataLoader(data_dir, test_idx)"
   ]
  },
  {
   "cell_type": "code",
   "execution_count": null,
   "metadata": {},
   "outputs": [],
   "source": [
    "# visualize the test data\n",
    "print('Left Image')\n",
    "plt.imshow(ValData.imgs_left[ind_img][0].cpu().numpy(),cmap=\"gray\")\n",
    "plt.show()\n",
    "print('Right Image')\n",
    "plt.imshow(ValData.imgs_right[ind_img][0].cpu().numpy(),cmap=\"gray\")\n",
    "plt.show()\n",
    "# print('Ground Truth disparity')\n",
    "# plt.imshow(ValData.disps[ind_img], cmap='jet')\n",
    "# plt.show()"
   ]
  },
  {
   "cell_type": "code",
   "execution_count": null,
   "metadata": {},
   "outputs": [],
   "source": [
    "import math\n",
    "import torch\n",
    "\n",
    "def visualize_patch(ind_img: str, row: int, col: int, d: int, ws: int):\n",
    "    d_pos = 0\n",
    "    d_neg = np.random.randint(5,25)\n",
    "\n",
    "    if np.random.rand(1) < 0.5:\n",
    "        d_neg = -d_neg\n",
    "\n",
    "    x0 = ValData.imgs_left[ind_img]\n",
    "    x1 = ValData.imgs_right[ind_img]\n",
    "\n",
    "    anchor = gen_patch(x0, row, col, ws)\n",
    "    pos = gen_patch(x1, row, col - d + d_pos, ws)\n",
    "    neg = gen_patch(x1, row, col - d + d_neg, ws)\n",
    "\n",
    "    fig = plt.figure(figsize=(12,4))\n",
    "\n",
    "    plt.subplot(1, 3, 1)\n",
    "    plt.imshow(anchor[0].cpu().numpy(),cmap='gray')\n",
    "    plt.title('Patch from image A')\n",
    "\n",
    "    plt.subplot(1, 3, 2)\n",
    "    plt.imshow(pos[0].cpu().numpy(),cmap='gray')\n",
    "    plt.title('Positive patch from image B')\n",
    "\n",
    "    plt.subplot(1, 3, 3)\n",
    "    plt.imshow(neg[0].cpu().numpy(),cmap='gray')\n",
    "    plt.title('Negative patch from image B')\n",
    "\n",
    "    fig.suptitle('Patch examples for window size = {}'.format(ws))\n",
    "    plt.show()\n",
    "\n",
    "row = 200\n",
    "col = 400\n",
    "d = ValData.disps[ind_img][row][col].astype(int)\n",
    "window_sizes = [3, 5, 11, 21, 41]\n",
    "\n",
    "for ws in window_sizes:\n",
    "    visualize_patch(ind_img, row, col, d, ws)"
   ]
  },
  {
   "cell_type": "markdown",
   "metadata": {},
   "source": [
    "# Testing Disparity Calculation"
   ]
  },
  {
   "cell_type": "code",
   "execution_count": null,
   "metadata": {},
   "outputs": [],
   "source": [
    "from proj4_unit_tests.test_part2c_disparity import (\n",
    "    test_calculate_mccnn_disparity_map,\n",
    "    test_calculate_mccnn_cost_volume,\n",
    "    test_calculate_mccnn_cost_volume_argmin\n",
    ")\n",
    "print('Testing for disparity map:', verify(test_calculate_mccnn_disparity_map))\n",
    "\n",
    "print('Testing for cost volume:', verify(test_calculate_mccnn_disparity_map))\n",
    "\n",
    "print('Testing for cost volume\\'s argmin:', verify(test_calculate_mccnn_disparity_map))"
   ]
  },
  {
   "cell_type": "markdown",
   "metadata": {},
   "source": [
    "Now that you have implemented the network structure correctly, are able to extract patches from the given data, and can correctly calculate the disparity map, you can go ahead and work on `part2_mc_cnn.ipynb` on Google Colab."
   ]
  }
 ],
 "metadata": {
  "accelerator": "GPU",
  "colab": {
   "collapsed_sections": [],
   "name": "mc_cnn.ipynb",
   "provenance": [],
   "toc_visible": true
  },
  "kernelspec": {
   "display_name": "Python 3",
   "language": "python",
   "name": "python3"
  },
  "language_info": {
   "codemirror_mode": {
    "name": "ipython",
    "version": 3
   },
   "file_extension": ".py",
   "mimetype": "text/x-python",
   "name": "python",
   "nbconvert_exporter": "python",
   "pygments_lexer": "ipython3",
   "version": "3.8.8"
  }
 },
 "nbformat": 4,
 "nbformat_minor": 1
}
